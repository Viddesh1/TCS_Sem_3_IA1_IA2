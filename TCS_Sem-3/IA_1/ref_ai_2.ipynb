{
 "cells": [
  {
   "cell_type": "code",
   "execution_count": 1,
   "metadata": {},
   "outputs": [],
   "source": [
    "import cv2\n",
    "import numpy as np\n",
    "from tensorflow.keras.datasets import cifar10"
   ]
  },
  {
   "cell_type": "code",
   "execution_count": null,
   "metadata": {},
   "outputs": [],
   "source": [
    "# Load CIFAR-10 dataset\n",
    "(train_images, _), (_, _) = cifar10.load_data()"
   ]
  },
  {
   "cell_type": "code",
   "execution_count": null,
   "metadata": {},
   "outputs": [],
   "source": [
    "# Convert images to grayscale\n",
    "gray_images = [cv2.cvtColor(image, cv2.COLOR_RGB2GRAY) for image in train_images]"
   ]
  },
  {
   "cell_type": "code",
   "execution_count": null,
   "metadata": {},
   "outputs": [],
   "source": [
    "\n",
    "\n",
    "# Define sliding window size\n",
    "window_size = 32\n",
    "\n",
    "# Iterate through the grayscale images\n",
    "for i, gray_image in enumerate(gray_images):\n",
    "    for y in range(0, gray_image.shape[0] - window_size, window_size):\n",
    "        for x in range(0, gray_image.shape[1] - window_size, window_size):\n",
    "            window = gray_image[y:y + window_size, x:x + window_size]\n",
    "            \n",
    "            # Perform object classification using your model\n",
    "            # Replace this with your own object classification model\n",
    "            predicted_class = predict_object_class(window)\n",
    "            \n",
    "            # If the predicted class is one of the objects you want to detect\n",
    "            if predicted_class in ['airplane', 'automobile', 'bird', 'cat', 'deer', 'dog', 'frog', 'horse', 'ship', 'truck']:\n",
    "                cv2.rectangle(train_images[i], (x, y), (x + window_size, y + window_size), (0, 255, 0), 2)\n",
    "\n",
    "    # Display the image with rectangles around potential detections\n",
    "    cv2.imshow(\"Image with Detections\", train_images[i])\n",
    "    cv2.waitKey(0)\n",
    "    cv2.destroyAllWindows()"
   ]
  }
 ],
 "metadata": {
  "kernelspec": {
   "display_name": "venv-test",
   "language": "python",
   "name": "python3"
  },
  "language_info": {
   "codemirror_mode": {
    "name": "ipython",
    "version": 3
   },
   "file_extension": ".py",
   "mimetype": "text/x-python",
   "name": "python",
   "nbconvert_exporter": "python",
   "pygments_lexer": "ipython3",
   "version": "3.11.4"
  },
  "orig_nbformat": 4
 },
 "nbformat": 4,
 "nbformat_minor": 2
}
