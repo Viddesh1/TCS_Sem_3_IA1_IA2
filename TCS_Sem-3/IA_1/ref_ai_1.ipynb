{
 "cells": [
  {
   "cell_type": "code",
   "execution_count": 1,
   "metadata": {},
   "outputs": [],
   "source": [
    "import tensorflow as tf\n",
    "from tensorflow.keras import layers, models\n",
    "from tensorflow.keras.datasets import cifar10\n",
    "from tensorflow.keras.utils import to_categorical\n",
    "import matplotlib.pyplot as plt"
   ]
  },
  {
   "cell_type": "code",
   "execution_count": 2,
   "metadata": {},
   "outputs": [],
   "source": [
    "# Load and preprocess the CIFAR-10 dataset\n",
    "(train_images, train_labels), (test_images, test_labels) = cifar10.load_data()\n",
    "train_images, test_images = train_images / 255.0, test_images / 255.0\n",
    "train_labels = to_categorical(train_labels, num_classes=10)\n",
    "test_labels = to_categorical(test_labels, num_classes=10)"
   ]
  },
  {
   "cell_type": "code",
   "execution_count": 3,
   "metadata": {},
   "outputs": [],
   "source": [
    "# Define the CNN model\n",
    "model = models.Sequential()\n",
    "model.add(layers.Conv2D(32, (3, 3), activation='relu', input_shape=(32, 32, 3)))\n",
    "model.add(layers.MaxPooling2D((2, 2)))\n",
    "model.add(layers.Conv2D(64, (3, 3), activation='relu'))\n",
    "model.add(layers.MaxPooling2D((2, 2)))\n",
    "model.add(layers.Conv2D(64, (3, 3), activation='relu'))\n",
    "model.add(layers.Flatten())\n",
    "model.add(layers.Dense(64, activation='relu'))\n",
    "model.add(layers.Dense(10, activation='softmax'))"
   ]
  },
  {
   "cell_type": "code",
   "execution_count": 4,
   "metadata": {},
   "outputs": [],
   "source": [
    "# Compile the model\n",
    "model.compile(optimizer='adam',\n",
    "              loss='categorical_crossentropy',\n",
    "              metrics=['accuracy'])\n",
    "\n"
   ]
  },
  {
   "cell_type": "code",
   "execution_count": 5,
   "metadata": {},
   "outputs": [
    {
     "name": "stdout",
     "output_type": "stream",
     "text": [
      "Epoch 1/10\n",
      "782/782 [==============================] - 53s 66ms/step - loss: 1.6060 - accuracy: 0.4135 - val_loss: 1.3134 - val_accuracy: 0.5247\n",
      "Epoch 2/10\n",
      "782/782 [==============================] - 50s 64ms/step - loss: 1.2333 - accuracy: 0.5604 - val_loss: 1.1413 - val_accuracy: 0.5874\n",
      "Epoch 3/10\n",
      "782/782 [==============================] - 48s 62ms/step - loss: 1.0811 - accuracy: 0.6219 - val_loss: 1.0205 - val_accuracy: 0.6426\n",
      "Epoch 4/10\n",
      "782/782 [==============================] - 50s 64ms/step - loss: 0.9919 - accuracy: 0.6515 - val_loss: 0.9939 - val_accuracy: 0.6472\n",
      "Epoch 5/10\n",
      "782/782 [==============================] - 51s 65ms/step - loss: 0.9197 - accuracy: 0.6772 - val_loss: 0.9469 - val_accuracy: 0.6735\n",
      "Epoch 6/10\n",
      "782/782 [==============================] - 49s 63ms/step - loss: 0.8623 - accuracy: 0.6968 - val_loss: 0.9740 - val_accuracy: 0.6613\n",
      "Epoch 7/10\n",
      "782/782 [==============================] - 53s 68ms/step - loss: 0.8201 - accuracy: 0.7095 - val_loss: 0.9308 - val_accuracy: 0.6763\n",
      "Epoch 8/10\n",
      "782/782 [==============================] - 50s 65ms/step - loss: 0.7888 - accuracy: 0.7240 - val_loss: 0.8775 - val_accuracy: 0.7003\n",
      "Epoch 9/10\n",
      "782/782 [==============================] - 51s 65ms/step - loss: 0.7511 - accuracy: 0.7365 - val_loss: 0.8928 - val_accuracy: 0.6954\n",
      "Epoch 10/10\n",
      "782/782 [==============================] - 51s 65ms/step - loss: 0.7223 - accuracy: 0.7474 - val_loss: 0.8575 - val_accuracy: 0.7113\n"
     ]
    }
   ],
   "source": [
    "# Train the model\n",
    "history = model.fit(train_images, train_labels, epochs=10, batch_size=64,\n",
    "                    validation_data=(test_images, test_labels))\n",
    "\n"
   ]
  },
  {
   "cell_type": "code",
   "execution_count": 6,
   "metadata": {},
   "outputs": [
    {
     "name": "stdout",
     "output_type": "stream",
     "text": [
      "313/313 [==============================] - 4s 12ms/step - loss: 0.8575 - accuracy: 0.7113\n",
      "Test accuracy: 0.7113000154495239\n"
     ]
    }
   ],
   "source": [
    "# Evaluate the model\n",
    "test_loss, test_acc = model.evaluate(test_images, test_labels)\n",
    "print(\"Test accuracy:\", test_acc)"
   ]
  },
  {
   "cell_type": "code",
   "execution_count": 7,
   "metadata": {},
   "outputs": [
    {
     "data": {
      "image/png": "[encoded data removed]",
      "text/plain": [
       "<Figure size 640x480 with 1 Axes>"
      ]
     },
     "metadata": {},
     "output_type": "display_data"
    }
   ],
   "source": [
    "# Plot training history\n",
    "plt.plot(history.history['accuracy'], label='accuracy')\n",
    "plt.plot(history.history['val_accuracy'], label='val_accuracy')\n",
    "plt.xlabel('Epoch')\n",
    "plt.ylabel('Accuracy')\n",
    "plt.ylim([0, 1])\n",
    "plt.legend(loc='lower right')\n",
    "plt.show()"
   ]
  }
 ],
 "metadata": {
  "kernelspec": {
   "display_name": "venv-test",
   "language": "python",
   "name": "python3"
  },
  "language_info": {
   "codemirror_mode": {
    "name": "ipython",
    "version": 3
   },
   "file_extension": ".py",
   "mimetype": "text/x-python",
   "name": "python",
   "nbconvert_exporter": "python",
   "pygments_lexer": "ipython3",
   "version": "3.11.4"
  },
  "orig_nbformat": 4
 },
 "nbformat": 4,
 "nbformat_minor": 2
}
