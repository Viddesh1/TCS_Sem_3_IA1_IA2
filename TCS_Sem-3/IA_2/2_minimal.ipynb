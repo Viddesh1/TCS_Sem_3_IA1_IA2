{
 "cells": [
  {
   "cell_type": "code",
   "execution_count": 1,
   "metadata": {},
   "outputs": [],
   "source": [
    "# TODO:\n",
    "# Save the matplotlib plots\n",
    "# save the models"
   ]
  },
  {
   "cell_type": "code",
   "execution_count": null,
   "metadata": {},
   "outputs": [],
   "source": [
    "# Question :- \n",
    "# In this assignment candidate will be able to create a model that can detect coronavirus patients \n",
    "# from X-ray reports\n",
    "\n",
    "# Just info:-\n",
    "# I have already download and unzip the kaggle dataset. It's name is Covid19-dataset."
   ]
  },
  {
   "cell_type": "code",
   "execution_count": 32,
   "metadata": {},
   "outputs": [],
   "source": [
    "# Importing all the necessary libraries\n",
    "import os\n",
    "import cv2\n",
    "import numpy as np\n",
    "from tensorflow.keras.preprocessing.image import ImageDataGenerator\n",
    "from tensorflow.keras.applications import ResNet50\n",
    "from tensorflow.keras.callbacks import EarlyStopping\n",
    "from tensorflow.keras import Sequential\n",
    "from tensorflow.keras import layers\n",
    "# from "
   ]
  },
  {
   "cell_type": "code",
   "execution_count": 2,
   "metadata": {},
   "outputs": [
    {
     "data": {
      "text/plain": [
       "'c:\\\\IA_SEM_3\\\\TCS_Sem_3_IA1_IA2\\\\TCS_Sem-3\\\\IA_2'"
      ]
     },
     "execution_count": 2,
     "metadata": {},
     "output_type": "execute_result"
    }
   ],
   "source": [
    "os.getcwd()"
   ]
  },
  {
   "cell_type": "code",
   "execution_count": 3,
   "metadata": {},
   "outputs": [],
   "source": [
    "# Saving the path of the train directory and test directory as string.\n",
    "\n",
    "train_dir_path = \"C:/IA_SEM_3/TCS_Sem_3_IA1_IA2/TCS_Sem-3/IA_2/Covid19-dataset/train\"\n",
    "test_dir_path = \"C:/IA_SEM_3/TCS_Sem_3_IA1_IA2/TCS_Sem-3/IA_2/Covid19-dataset/test\""
   ]
  },
  {
   "cell_type": "code",
   "execution_count": 7,
   "metadata": {},
   "outputs": [],
   "source": [
    "image_height = 224\n",
    "image_width = 224\n",
    "batch_size = 32"
   ]
  },
  {
   "cell_type": "code",
   "execution_count": 10,
   "metadata": {},
   "outputs": [],
   "source": [
    "X_train = []\n",
    "\n",
    "for folder in os.listdir(train_dir_path):\n",
    "    sub_path = train_dir_path + \"/\" + folder\n",
    "    for image in os.listdir(sub_path):\n",
    "        image_train = sub_path + \"/\" + image\n",
    "        image = cv2.imread(image_train)\n",
    "        image = cv2.resize(image, (image_height, image_width)) # ResNet-50 needs an input shape of 224 x 224\n",
    "        X_train.append(image)\n",
    "\n"
   ]
  },
  {
   "cell_type": "code",
   "execution_count": 11,
   "metadata": {},
   "outputs": [],
   "source": [
    "X_test = []\n",
    "\n",
    "for folder in os.listdir(test_dir_path):\n",
    "    sub_test = test_dir_path + \"/\" + folder\n",
    "    for image in os.listdir(sub_test):\n",
    "        image_test = sub_test + \"/\" + image\n",
    "        image = cv2.imread(image_test)\n",
    "        image = cv2.resize(image, (image_height, image_width))\n",
    "        X_test.append(image)"
   ]
  },
  {
   "cell_type": "code",
   "execution_count": 13,
   "metadata": {},
   "outputs": [
    {
     "name": "stdout",
     "output_type": "stream",
     "text": [
      "Maximum value of the first image in X_train:  255.0\n",
      "Minumum value of the first image in X_train:  0.0\n",
      "Maximum value of the first value in X_test:  255.0\n",
      "Minimum value of the first image in X_test:  0.0\n"
     ]
    }
   ],
   "source": [
    "print(\"Maximum value of the first image in X_train: \", float(np.max(X_train[0])))\n",
    "print(\"Minumum value of the first image in X_train: \", float(np.min(X_train[0])))\n",
    "\n",
    "print(\"Maximum value of the first value in X_test: \", float(np.max(X_test[0])))\n",
    "print(\"Minimum value of the first image in X_test: \", float(np.min(X_test[0])))"
   ]
  },
  {
   "cell_type": "code",
   "execution_count": 16,
   "metadata": {},
   "outputs": [],
   "source": [
    "train_data = ImageDataGenerator(rescale = 1.0 / 255.0, validation_split = 0.2)\n",
    "test_data = ImageDataGenerator(rescale = 1.0 / 255.0)"
   ]
  },
  {
   "cell_type": "code",
   "execution_count": 18,
   "metadata": {},
   "outputs": [
    {
     "name": "stdout",
     "output_type": "stream",
     "text": [
      "Found 201 images belonging to 3 classes.\n",
      "Found 50 images belonging to 3 classes.\n",
      "Found 66 images belonging to 3 classes.\n"
     ]
    }
   ],
   "source": [
    "train_set = train_data.flow_from_directory(\n",
    "    train_dir_path,\n",
    "    subset = \"training\",\n",
    "    batch_size = batch_size,\n",
    "    target_size = (image_height, image_width),\n",
    "    class_mode = \"categorical\" # sparse\n",
    ")\n",
    "validation_set = train_data.flow_from_directory(\n",
    "    train_dir_path,\n",
    "    subset = \"validation\",\n",
    "    batch_size = batch_size,\n",
    "    target_size = (image_height, image_width),\n",
    "    class_mode = \"categorical\" # sparse\n",
    ")\n",
    "test_set = test_data.flow_from_directory(\n",
    "    test_dir_path,\n",
    "    batch_size = batch_size,\n",
    "    target_size = (image_height, image_width),\n",
    "    class_mode = \"categorical\" # sparse\n",
    ")"
   ]
  },
  {
   "cell_type": "code",
   "execution_count": 28,
   "metadata": {},
   "outputs": [],
   "source": [
    "# ResNet50 Model\n",
    "resnet_50 = ResNet50(\n",
    "    include_top = False, \n",
    "    input_shape = (224, 224, 3),\n",
    "    weights = \"imagenet\"\n",
    "    )\n",
    "\n",
    "for layers in resnet_50.layers:\n",
    "    layers.trainable = False"
   ]
  },
  {
   "cell_type": "code",
   "execution_count": 29,
   "metadata": {},
   "outputs": [],
   "source": [
    "# Early Stopping\n",
    "early_stopping = EarlyStopping(\n",
    "    monitor = \"val_loss\",\n",
    "    patience = 10,\n",
    "    restore_best_weights = True,\n",
    "    min_delta = 0.001,\n",
    "    verbose = 0\n",
    ")"
   ]
  },
  {
   "cell_type": "code",
   "execution_count": 34,
   "metadata": {},
   "outputs": [],
   "source": [
    "resnet_50_model = Sequential(\n",
    "    [\n",
    "        # layers.RandomFlip(mode = \"horizontal\"),\n",
    "        layers.RandomFlip(mode = \"horizontal\"),\n",
    "        layers.RandomRotation(factor = 0.2),\n",
    "        resnet_50,\n",
    "        layers.GlobalAveragePooling2D(),\n",
    "        layers.Flatten(),\n",
    "        layers.Dense(units = 512, activation = \"relu\"),\n",
    "        layers.Dense(units = 100, activation = \"relu\"),\n",
    "        layers.Dense(units = 3, activation = \"softmax\")\n",
    "    ]\n",
    ")"
   ]
  },
  {
   "cell_type": "code",
   "execution_count": 35,
   "metadata": {},
   "outputs": [],
   "source": [
    "resnet_50_model.compile(\n",
    "    optimizer = \"adam\",\n",
    "    loss = \"categorical_crossentropy\", # sparse_categorical_crossentropy\n",
    "    metrics = [\"accuracy\"]\n",
    ")"
   ]
  },
  {
   "cell_type": "code",
   "execution_count": 37,
   "metadata": {},
   "outputs": [
    {
     "name": "stdout",
     "output_type": "stream",
     "text": [
      "Epoch 1/2\n",
      "7/7 [==============================] - 38s 5s/step - loss: 1.1825 - accuracy: 0.4080 - val_loss: 1.0502 - val_accuracy: 0.5600\n",
      "Epoch 2/2\n",
      "7/7 [==============================] - 30s 4s/step - loss: 1.0186 - accuracy: 0.4776 - val_loss: 1.0011 - val_accuracy: 0.6600\n"
     ]
    }
   ],
   "source": [
    "# Fitting the ResNet-50 model\n",
    "\n",
    "history = resnet_50_model.fit(\n",
    "    train_set,\n",
    "    callbacks = [early_stopping],\n",
    "    steps_per_epoch = 7,\n",
    "    epochs = 2, # 100\n",
    "    validation_data = validation_set\n",
    ")"
   ]
  },
  {
   "cell_type": "code",
   "execution_count": 38,
   "metadata": {},
   "outputs": [
    {
     "name": "stdout",
     "output_type": "stream",
     "text": [
      "Test loss:  0.9607003331184387\n",
      "Test accuracy:  0.6515151262283325\n"
     ]
    }
   ],
   "source": [
    "# Evaluate the model on the test data set\n",
    "\n",
    "loss, accuracy = resnet_50_model.evaluate(test_set, verbose = 0)\n",
    "\n",
    "# Evaluation result\n",
    "print(\"Test loss: \", loss)\n",
    "print(\"Test accuracy: \", accuracy)"
   ]
  },
  {
   "cell_type": "code",
   "execution_count": null,
   "metadata": {},
   "outputs": [],
   "source": [
    "# Plotting the Training loss and Validation Loss\n",
    " \n",
    "plt.figure"
   ]
  },
  {
   "cell_type": "code",
   "execution_count": null,
   "metadata": {},
   "outputs": [],
   "source": []
  }
 ],
 "metadata": {
  "kernelspec": {
   "display_name": "venv-test",
   "language": "python",
   "name": "python3"
  },
  "language_info": {
   "codemirror_mode": {
    "name": "ipython",
    "version": 3
   },
   "file_extension": ".py",
   "mimetype": "text/x-python",
   "name": "python",
   "nbconvert_exporter": "python",
   "pygments_lexer": "ipython3",
   "version": "3.11.4"
  },
  "orig_nbformat": 4
 },
 "nbformat": 4,
 "nbformat_minor": 2
}
