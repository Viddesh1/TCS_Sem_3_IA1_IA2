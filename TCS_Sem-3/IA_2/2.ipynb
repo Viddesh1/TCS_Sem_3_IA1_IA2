{
 "cells": [
  {
   "cell_type": "code",
   "execution_count": null,
   "metadata": {},
   "outputs": [],
   "source": [
    "# Question :- \n",
    "# In this assignment candidate will be able to create a model that can detect coronavirus patients \n",
    "# from X-ray reports\n",
    "\n",
    "# Just info:-\n",
    "# I have already download and unzip the kaggle dataset. It's name is Covid19-dataset."
   ]
  }
 ],
 "metadata": {
  "language_info": {
   "name": "python"
  },
  "orig_nbformat": 4
 },
 "nbformat": 4,
 "nbformat_minor": 2
}
